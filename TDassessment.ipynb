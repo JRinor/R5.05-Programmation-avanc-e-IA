{
 "cells": [
  {
   "cell_type": "markdown",
   "metadata": {},
   "source": [
    "# Support sur les fondamentaux "
   ]
  },
  {
   "cell_type": "markdown",
   "metadata": {},
   "source": [
    "## Utilisation de Jupyter Notebook"
   ]
  },
  {
   "cell_type": "markdown",
   "metadata": {},
   "source": [
    "Le principe est simple : \n",
    " - Chaque notebook est constitué d’une liste de **cellules**\n",
    " - Chacune peut contenir du **texte formaté** ou du **code** (Python, dans notre cas)\n",
    " - On **exécute** une cellule de code -> le résultat s’affiche sous la cellule\n",
    "\n",
    "Cliquez sur le menu **Help** > **User Interface Tour** pour un tour rapide de l’interface.    "
   ]
  },
  {
   "cell_type": "markdown",
   "metadata": {},
   "source": [
    "Pour vous entraîner :\n",
    "- **Insérez** quelques cellules de code au début du notebook\n",
    "- Exécutez quelques commandes Python, telles que **print(\"Hello world!\")** :\n",
    "    - Cliquez dans une cellule de code et saisissez le code à exécuter\n",
    "    - Exécutez le code de la cellule en tapant Shift-Entrée ou en cliquant sur le bouton d’exécution\n",
    "    \n",
    "Lorsque vous **cliquez** à l’intérieur d’une cellule, vous passez en mode **édition** (la cellule est alors encadrée en *vert*). Lorsque vous tapez la **touche Echap** (Esc) ou que vous cliquez juste à gauche de la cellule, vous passez en mode **commande** (la cellule est alors encadrée en *bleu*). \n",
    "\n",
    "Lorsque vous êtes en **mode commande**, tapez la **touche H** pour afficher les nombreux **raccourcis clavier** disponibles"
   ]
  },
  {
   "cell_type": "markdown",
   "metadata": {},
   "source": [
    "## Préparation"
   ]
  },
  {
   "cell_type": "markdown",
   "metadata": {},
   "source": [
    "Tout d'abord, assurons-nous que ce bloc-notes fonctionne bien en python 3, importons quelques modules communs, assurons-nous que MatplotLib trace des figures :"
   ]
  },
  {
   "cell_type": "code",
   "execution_count": 1,
   "metadata": {},
   "outputs": [
    {
     "data": {
      "image/png": "[encoded data removed]",
      "text/plain": [
       "<Figure size 432x288 with 1 Axes>"
      ]
     },
     "metadata": {
      "needs_background": "light"
     },
     "output_type": "display_data"
    }
   ],
   "source": [
    "# Pour soutenir à la fois python 2 et python 3\n",
    "from __future__ import division, print_function, unicode_literals\n",
    "\n",
    "# Importations communes\n",
    "import numpy as np\n",
    "import os\n",
    "\n",
    "# Pour que la production soit stable d'un bout à l'autre\n",
    "np.random.seed(42)\n",
    "\n",
    "# Pour tracer de jolis figures\n",
    "%matplotlib inline\n",
    "import matplotlib as mpl\n",
    "import matplotlib.pyplot as plt\n",
    "mpl.rc('axes', labelsize=14)\n",
    "mpl.rc('xtick', labelsize=12)\n",
    "mpl.rc('ytick', labelsize=12)\n",
    "plt.xlabel(\"$x$\", fontsize=18)\n",
    "plt.ylabel(\"$y$\", rotation=90, fontsize=18)\n",
    "plt.axis([0, 2, 0, 15])\n",
    "plt.show()"
   ]
  },
  {
   "cell_type": "markdown",
   "metadata": {},
   "source": [
    "## Préparation et initialisation"
   ]
  },
  {
   "cell_type": "markdown",
   "metadata": {},
   "source": [
    "### Chargement des packages"
   ]
  },
  {
   "cell_type": "code",
   "execution_count": 2,
   "metadata": {},
   "outputs": [],
   "source": [
    "import numpy as np\n",
    "import sys\n",
    "import glob\n",
    "import os\n",
    "\n",
    "from sklearn.linear_model import Ridge\n",
    "from sklearn.pipeline import Pipeline\n",
    "from sklearn.preprocessing import PolynomialFeatures\n",
    "\n",
    "from sklearn import datasets"
   ]
  },
  {
   "cell_type": "markdown",
   "metadata": {},
   "source": [
    "### Quelques fonctions"
   ]
  },
  {
   "cell_type": "code",
   "execution_count": 3,
   "metadata": {},
   "outputs": [],
   "source": [
    "## Calcul de  points de manière inconnue\n",
    "def computePoints(m):\n",
    "    X1 = 10*np.random.rand(m, 1) # m valeurs aléatoires de 0 à 10 \n",
    "    X2 = 10*np.random.rand(m, 1) # m valeurs aléatoires de 0 à 10 \n",
    "    y =4 + 2 * X1 + 3* X2 + 10*np.random.randn(m, 1) # m valeurs de y coorespondantes à x1 et x2\n",
    "    return [X1,X2,y]\n",
    "\n",
    "## Calcul de  points de manière inconnue\n",
    "def computepolyPoints(m):  \n",
    "    e=3\n",
    "    n=3127\n",
    "    d=2011\n",
    "    X = 6 * np.random.rand(m, 1) - 3 # 200 valeurs aléatoires de -3 à +3\n",
    "    y = 3 * 8*X*X*X*X+ 23*X*X*X+ X**2 + X + 4 + np.random.randn(m, 1) # 200 y coorespondants à x\n",
    "    return [X,y]\n",
    "\n",
    "# Fonction Sigmoid\n",
    "def sig(t):\n",
    "    return 1 / (1 + np.exp(-t))\n",
    "\n",
    "## Calcul de  points de manière inconnue\n",
    "def computeLogistic(m,n):\n",
    "    val = 10*np.random.rand(n, 1) # m valeurs aléatoires de 0 à 10 \n",
    "    X = 5*np.random.rand(m, n) # m valeurs aléatoires de 0 à 5\n",
    "    y_temp=X.dot(val)\n",
    "    maxi=max(y_temp)\n",
    "    mini=min(y_temp)\n",
    "    y_norm=10-(y_temp-mini)/(maxi-mini)*20\n",
    "    y_proba=sig(y_norm)\n",
    "    y=np.round(y_proba)\n",
    "    return [X,y]\n",
    "\n",
    "## Calcul de  points de manière inconnue\n",
    "def computeSoftMax(m,n,k):\n",
    "    #val = 10*np.random.rand(n, k) # m valeurs aléatoires de 0 à 10 \n",
    "    X = 5*np.random.rand(m, n) # m valeurs aléatoires de 0 à 5\n",
    "    y=0*np.random.rand(m, 1)\n",
    "    for cpt in range(0, m): \n",
    "        classe=int(np.round(k*np.random.rand(1, 1)))\n",
    "        y[cpt]=classe\n",
    "    return [X,y]\n"
   ]
  },
  {
   "cell_type": "markdown",
   "metadata": {},
   "source": [
    "## Exemple 1 "
   ]
  },
  {
   "cell_type": "code",
   "execution_count": 4,
   "metadata": {},
   "outputs": [],
   "source": [
    "m=100;\n",
    "n=3;"
   ]
  },
  {
   "cell_type": "code",
   "execution_count": 5,
   "metadata": {},
   "outputs": [
    {
     "ename": "ModuleNotFoundError",
     "evalue": "No module named 'dash'",
     "output_type": "error",
     "traceback": [
      "\u001b[0;31m---------------------------------------------------------------------------\u001b[0m",
      "\u001b[0;31mModuleNotFoundError\u001b[0m                       Traceback (most recent call last)",
      "\u001b[0;32m<ipython-input-5-a38fd4afd1a3>\u001b[0m in \u001b[0;36m<module>\u001b[0;34m\u001b[0m\n\u001b[1;32m     25\u001b[0m \u001b[0;31m#   ax.view_init(30, 40)\u001b[0m\u001b[0;34m\u001b[0m\u001b[0;34m\u001b[0m\u001b[0;34m\u001b[0m\u001b[0m\n\u001b[1;32m     26\u001b[0m \u001b[0;34m\u001b[0m\u001b[0m\n\u001b[0;32m---> 27\u001b[0;31m \u001b[0;32mimport\u001b[0m \u001b[0mdash\u001b[0m\u001b[0;34m\u001b[0m\u001b[0;34m\u001b[0m\u001b[0m\n\u001b[0m\u001b[1;32m     28\u001b[0m \u001b[0;32mimport\u001b[0m \u001b[0mdash_core_components\u001b[0m \u001b[0;32mas\u001b[0m \u001b[0mdcc\u001b[0m\u001b[0;34m\u001b[0m\u001b[0;34m\u001b[0m\u001b[0m\n\u001b[1;32m     29\u001b[0m \u001b[0;32mimport\u001b[0m \u001b[0mdash_html_components\u001b[0m \u001b[0;32mas\u001b[0m \u001b[0mhtml\u001b[0m\u001b[0;34m\u001b[0m\u001b[0;34m\u001b[0m\u001b[0m\n",
      "\u001b[0;31mModuleNotFoundError\u001b[0m: No module named 'dash'"
     ]
    },
    {
     "data": {
      "image/png": "[encoded data removed]",
      "text/plain": [
       "<Figure size 432x288 with 1 Axes>"
      ]
     },
     "metadata": {
      "needs_background": "light"
     },
     "output_type": "display_data"
    }
   ],
   "source": [
    "#%matplotlib qt\n",
    "\n",
    "[X1,X2,y]=computePoints(m)\n",
    "\n",
    "# importing mplot3d toolkits, numpy and matplotlib \n",
    "from mpl_toolkits import mplot3d \n",
    "import numpy as np \n",
    "import matplotlib.pyplot as plt \n",
    "  \n",
    "#fig = plt.figure() \n",
    "mpl.rcParams['legend.fontsize'] = 10\n",
    "  \n",
    "# syntax for 3-D projection \n",
    "ax = plt.axes(projection ='3d') \n",
    "  \n",
    "\n",
    "# plotting \n",
    "ax.scatter(X1.flatten(),X2.flatten(),y.flatten());\n",
    "plt.xlabel('$X_1$');\n",
    "plt.ylabel('$X_2$');\n",
    "ax.set_zlabel('y');\n",
    "\n",
    "# rotate the axes and update\n",
    "#for angle in range(0, 360):\n",
    "#   ax.view_init(30, 40)\n",
    "\n",
    "import dash\n",
    "import dash_core_components as dcc\n",
    "import dash_html_components as html\n",
    "from dash.dependencies import Input, Output\n",
    "import plotly.graph_objects as go\n",
    "import plotly.express as px\n",
    "\n",
    "fig = go.Figure(data=[go.Scatter3d(\n",
    "    x=X1.flatten(),\n",
    "    y=X2.flatten(),\n",
    "    z=y.flatten(),\n",
    "    mode='markers',\n",
    "    marker=dict(\n",
    "        size=5,\n",
    "        colorscale='Viridis',   # choose a colorscale\n",
    "        opacity=0.8\n",
    "    )\n",
    ")])\n",
    "\n",
    "fig.write_html(\"ex1.html\")\n",
    "\n",
    "plt.show() "
   ]
  },
  {
   "cell_type": "markdown",
   "metadata": {},
   "source": [
    "1. m = 100 &rarr; 100 points, c'est-à-dire 100 mesures $(x_i, y_i)$ \n",
    "2. n = 3 : $y=\\theta_0+\\theta_1X_1+\\theta_2X_2$\n",
    "3. X : valeurs en bas, y valeurs correspondantes verticalement et $\\Theta$ le modèle à calculer\n",
    "4. L'inconnu est donc $\\Theta$ \n"
   ]
  },
  {
   "cell_type": "code",
   "execution_count": null,
   "metadata": {},
   "outputs": [],
   "source": [
    "%matplotlib qt\n",
    "\n",
    "[X1,X2,y]=computePoints(m)\n",
    "\n",
    "# importing mplot3d toolkits, numpy and matplotlib \n",
    "from mpl_toolkits import mplot3d \n",
    "import numpy as np \n",
    "import matplotlib.pyplot as plt \n",
    "  \n",
    "fig = plt.figure() \n",
    "mpl.rcParams['legend.fontsize'] = 10\n",
    "  \n",
    "# syntax for 3-D projection \n",
    "ax = plt.axes(projection ='3d') \n",
    "  \n",
    "X = np.outer(np.linspace(0, 10, 100), np.ones(100)) \n",
    "Y = X.copy().T\n",
    "Z =4 + 2 * X + 3* Y  \n",
    "\n",
    "# plotting \n",
    "ax.plot_surface(X, Y, Z, cmap ='viridis') ;\n",
    "ax.scatter(X1.flatten(),X2.flatten(),y.flatten());\n",
    "plt.xlabel('$X_1$');\n",
    "plt.ylabel('$X_2$');\n",
    "ax.set_zlabel('y');\n",
    "\n",
    "# rotate the axes and update\n",
    "for angle in range(0, 360):\n",
    "   ax.view_init(30, 40)\n",
    "\n",
    "\n",
    "fig = go.Figure(data=[go.Scatter3d(\n",
    "    x=X1.flatten(),\n",
    "    y=X2.flatten(),\n",
    "    z=y.flatten(),\n",
    "    mode='markers',\n",
    "    marker=dict(\n",
    "        size=5,\n",
    "        colorscale='Viridis',   # choose a colorscale\n",
    "        opacity=0.8\n",
    "    )\n",
    ")])\n",
    "\n",
    "fig.add_trace( \n",
    "    go.Surface(\n",
    "    x=X,\n",
    "    y=Y,\n",
    "    z=Z\n",
    "    )\n",
    ")\n",
    "\n",
    "fig.write_html(\"ex2.html\")\n",
    "\n",
    "plt.show() "
   ]
  },
  {
   "cell_type": "markdown",
   "metadata": {},
   "source": [
    "1. Equation normale ou descente de gradient\n",
    "2. Equation normale car n est petit"
   ]
  },
  {
   "cell_type": "markdown",
   "metadata": {},
   "source": [
    "- Où sont $X$, $\\Theta$ et $y$ dans ce problème ?\n",
    "- Quelle est la solution **la plus précise et la plus rapide** pour construire le modèle ?\n",
    "- Quels sont les caractéristiques qui vont **augmenter la précision** du modèle ?\n",
    "- Quels seront les hyper-paramètres à régler ?\n"
   ]
  },
  {
   "cell_type": "markdown",
   "metadata": {},
   "source": [
    "## Exemple 2"
   ]
  },
  {
   "cell_type": "markdown",
   "metadata": {},
   "source": [
    "1. Où sont $X$, $\\Theta$ et $y$ dans ce problème ?\n",
    "\n",
    "X &rarr; les données du capteur\n",
    "y &rarr; la longévité\n",
    "$\\Theta$ &rarr; les paramètres du modèle\n",
    "\n",
    "2. Quelle est la solution **la plus précise et la plus rapide** pour construire le modèle ?\n",
    "\n",
    "Gradient conjugé Stochastique\n",
    "\n",
    "3. Quels sont les caractéristiques qui vont **augmenter la précision** du modèle ?\n",
    "\n",
    "Augmenté le nombre de données et le nombre de joueurs témoins\n",
    "\n",
    "4. Quels seront les hyper-paramètres à régler ?\n",
    "\n",
    "Le taux d'apprentissage et la taille des mini-lots"
   ]
  },
  {
   "cell_type": "markdown",
   "metadata": {},
   "source": [
    "Lequel des 2 algorythmes semble le plus précis ?"
   ]
  },
  {
   "cell_type": "markdown",
   "metadata": {},
   "source": [
    "## Exemple 3"
   ]
  },
  {
   "cell_type": "code",
   "execution_count": null,
   "metadata": {},
   "outputs": [],
   "source": [
    "from sklearn.linear_model import LinearRegression\n",
    "## Calcul et affichage des points\n",
    "m=300\n",
    "[X,y]=computepolyPoints(m)\n",
    "plt.plot(X, y, \"b.\")\n",
    "plt.xlabel(\"$x_1$\", fontsize=18)\n",
    "plt.ylabel(\"$y$\", rotation=0, fontsize=18)\n",
    "plt.axis([-6, 6, -2, 100])\n",
    "\n",
    "## Transformation des données d'apprentissage en polynôme\n",
    "from sklearn.preprocessing import PolynomialFeatures\n",
    "poly_features = PolynomialFeatures(degree=50, include_bias=False)\n",
    "X_poly = poly_features.fit_transform(X)\n",
    "\n",
    "## Regression linéire sur ce polynôme\n",
    "lin_reg = LinearRegression()\n",
    "lin_reg.fit(X_poly, y)\n",
    "\n",
    "# Affichage du résultat \n",
    "X_new=np.linspace(-3, 3, m).reshape(m, 1)\n",
    "X_new_poly = poly_features.transform(X_new)\n",
    "y_new = lin_reg.predict(X_new_poly)\n",
    "plt.plot(X, y, \"b.\")\n",
    "plt.plot(X_new, y_new, \"r-\", linewidth=2, label=\"Predictions\")\n",
    "\n",
    "import dash\n",
    "import dash_core_components as dcc\n",
    "import dash_html_components as html\n",
    "from dash.dependencies import Input, Output\n",
    "import plotly.graph_objects as go\n",
    "import plotly.express as px\n",
    "\n",
    "fig = px.scatter(x=X.flatten(), y=y.flatten())\n",
    "\n",
    "fig.write_html(\"ex3.html\")\n",
    "\n",
    "plt.show() \n"
   ]
  },
  {
   "cell_type": "markdown",
   "metadata": {},
   "source": [
    "- Où sont $X$, $\\Theta$ et $y$ ?\n",
    "\n",
    "X → les abcisses\n",
    "y → les ordonnées\n",
    "Θ → les paramètres du modèle\n",
    "  \n",
    "- Quel est l'**inconnu** pour construire le modèle ?\n",
    "\n",
    "Θ \n",
    "\n",
    "- Quelle est la méthode à utiliser ?\n",
    "\n",
    "RÉGRESSION POLYNOMIALE\n",
    "\n",
    "- Quels seront les hyper-paramètres à régler ?\n",
    "\n",
    "Le taux d'apprentissage, la taille des mini-lots et le degré du polynome"
   ]
  },
  {
   "cell_type": "code",
   "execution_count": null,
   "metadata": {},
   "outputs": [],
   "source": [
    "from sklearn.linear_model import LinearRegression\n",
    "## Calcul et affichage des points\n",
    "m=300\n",
    "[X,y]=computepolyPoints(m)\n",
    "plt.plot(X, y, \"b.\")\n",
    "plt.xlabel(\"$x_1$\", fontsize=18)\n",
    "plt.ylabel(\"$y$\", rotation=0, fontsize=18)\n",
    "plt.axis([-6, 6, -2, 100])\n",
    "\n",
    "## Transformation des données d'apprentissage en polynôme\n",
    "from sklearn.preprocessing import PolynomialFeatures\n",
    "poly_features = PolynomialFeatures(degree=50, include_bias=False)\n",
    "X_poly = poly_features.fit_transform(X)\n",
    "\n",
    "## Regression linéire sur ce polynôme\n",
    "lin_reg = LinearRegression()\n",
    "lin_reg.fit(X_poly, y)\n",
    "\n",
    "# Affichage du résultat \n",
    "X_new=np.linspace(-3, 3, m).reshape(m, 1)\n",
    "X_new_poly = poly_features.transform(X_new)\n",
    "y_new = lin_reg.predict(X_new_poly)\n",
    "plt.plot(X, y, \"b.\")\n",
    "plt.plot(X_new, y_new, \"r-\", linewidth=2, label=\"Predictions\")\n",
    "\n",
    "import dash\n",
    "import dash_core_components as dcc\n",
    "import dash_html_components as html\n",
    "from dash.dependencies import Input, Output\n",
    "import plotly.graph_objects as go\n",
    "import plotly.express as px\n",
    "\n",
    "fig = px.scatter(x=X.flatten(), y=y.flatten())\n",
    "\n",
    "fig.add_trace( \n",
    "    go.Scatter(x=X_new.flatten(), y=y_new.flatten(), line = dict(color='red'))\n",
    ")\n",
    "\n",
    "fig.write_html(\"ex4.html\")\n",
    "\n",
    "plt.show() \n"
   ]
  },
  {
   "cell_type": "code",
   "execution_count": null,
   "metadata": {},
   "outputs": [],
   "source": [
    "from sklearn.linear_model import LinearRegression\n",
    "## Calcul et affichage des points\n",
    "m=300\n",
    "[X,y]=computepolyPoints(m)\n",
    "plt.plot(X, y, \"b.\")\n",
    "plt.xlabel(\"$x_1$\", fontsize=18)\n",
    "plt.ylabel(\"$y$\", rotation=0, fontsize=18)\n",
    "plt.axis([-6, 6, -2, 100])\n",
    "\n",
    "## Transformation des données d'apprentissage en polynôme\n",
    "from sklearn.preprocessing import PolynomialFeatures\n",
    "poly_features = PolynomialFeatures(degree=1, include_bias=False)\n",
    "X_poly = poly_features.fit_transform(X)\n",
    "\n",
    "## Regression linéire sur ce polynôme\n",
    "lin_reg = LinearRegression()\n",
    "lin_reg.fit(X_poly, y)\n",
    "\n",
    "# Affichage du résultat \n",
    "X_new=np.linspace(-3, 3, m).reshape(m, 1)\n",
    "X_new_poly = poly_features.transform(X_new)\n",
    "y_new = lin_reg.predict(X_new_poly)\n",
    "plt.plot(X, y, \"b.\")\n",
    "plt.plot(X_new, y_new, \"r-\", linewidth=2, label=\"Predictions\")\n",
    "\n",
    "import dash\n",
    "import dash_core_components as dcc\n",
    "import dash_html_components as html\n",
    "from dash.dependencies import Input, Output\n",
    "import plotly.graph_objects as go\n",
    "import plotly.express as px\n",
    "\n",
    "fig = px.scatter(x=X.flatten(), y=y.flatten())\n",
    "\n",
    "fig.add_trace( \n",
    "    go.Scatter(x=X_new.flatten(), y=y_new.flatten(), line = dict(color='red'))\n",
    ")\n",
    "\n",
    "fig.write_html(\"ex5.html\")\n",
    "\n",
    "plt.show() \n"
   ]
  },
  {
   "cell_type": "code",
   "execution_count": null,
   "metadata": {},
   "outputs": [],
   "source": [
    "from sklearn.metrics import mean_squared_error\n",
    "from sklearn.model_selection import train_test_split\n",
    "\n",
    "def save_fig(fig_id, tight_layout=True, fig_extension=\"png\", resolution=300):\n",
    "    path = os.path.join(\".\", fig_id + \".\" + fig_extension)\n",
    "    print(\"Saving figure\", fig_id)\n",
    "    if tight_layout:\n",
    "        plt.tight_layout()\n",
    "    plt.savefig(path, format=fig_extension, dpi=resolution)\n",
    "    \n",
    "def plot_learning_curves(model, X, y):\n",
    "    X_train, X_val, y_train, y_val = train_test_split(X, y, test_size=0.2, random_state=10)\n",
    "    train_errors, val_errors = [], []\n",
    "    for m in range(1, len(X_train)):\n",
    "        model.fit(X_train[:m], y_train[:m])\n",
    "        y_train_predict = model.predict(X_train[:m])\n",
    "        y_val_predict = model.predict(X_val)\n",
    "        train_errors.append(mean_squared_error(y_train[:m], y_train_predict))\n",
    "        val_errors.append(mean_squared_error(y_val, y_val_predict))\n",
    "        \n",
    "    plt.plot(np.sqrt(train_errors), \"r-+\", linewidth=2, label=\"train\")\n",
    "    plt.plot(np.sqrt(val_errors), \"b-\", linewidth=3, label=\"val\")\n",
    "    plt.legend(loc=\"upper right\", fontsize=14)   \n",
    "    plt.xlabel(\"Training set size\", fontsize=14) \n",
    "    plt.ylabel(\"RMSE\", fontsize=14) \n",
    "    plt.axis([0, 200, -0.1, 20])"
   ]
  },
  {
   "cell_type": "code",
   "execution_count": null,
   "metadata": {},
   "outputs": [],
   "source": [
    "from sklearn.pipeline import Pipeline\n",
    "\n",
    "polynomial_regression = Pipeline([\n",
    "        (\"poly_features\", PolynomialFeatures(degree=1, include_bias=False)),\n",
    "        (\"lin_reg\", LinearRegression()),\n",
    "    ])\n",
    "\n",
    "plt.figure(figsize=(8, 4))\n",
    "plot_learning_curves(polynomial_regression, X, y)\n",
    "save_fig(\"learn1\")"
   ]
  },
  {
   "cell_type": "code",
   "execution_count": null,
   "metadata": {},
   "outputs": [],
   "source": [
    "from sklearn.pipeline import Pipeline\n",
    "\n",
    "m=300\n",
    "[X,y]=computepolyPoints(m)\n",
    "plt.plot(X, y, \"b.\")\n",
    "plt.xlabel(\"$x_1$\", fontsize=18)\n",
    "plt.ylabel(\"$y$\", rotation=0, fontsize=18)\n",
    "plt.axis([-6, 6, -2, 100])\n",
    "\n",
    "\n",
    "\n",
    "poly_features = PolynomialFeatures(degree=30, include_bias=False)\n",
    "X_poly = poly_features.fit_transform(X)\n",
    "\n",
    "## Regression linéire sur ce polynôme\n",
    "lin_reg = LinearRegression()\n",
    "lin_reg.fit(X_poly, y)\n",
    "\n",
    "X_new=np.linspace(-3, 3, m).reshape(m, 1)\n",
    "X_new_poly = poly_features.transform(X_new)\n",
    "y_new = lin_reg.predict(X_new_poly)\n",
    "plt.plot(X, y, \"b.\")\n",
    "plt.plot(X_new, y_new, \"r-\", linewidth=2, label=\"Predictions\")\n",
    "\n",
    "polynomial_regression = Pipeline([\n",
    "        (\"poly_features\", PolynomialFeatures(degree=30, include_bias=False)),\n",
    "        (\"lin_reg\", LinearRegression()),\n",
    "    ])\n",
    "\n",
    "plt.figure(figsize=(8, 4))\n",
    "plot_learning_curves(polynomial_regression, X, y)\n",
    "save_fig(\"learn2\")"
   ]
  },
  {
   "cell_type": "code",
   "execution_count": null,
   "metadata": {},
   "outputs": [],
   "source": [
    "from sklearn.pipeline import Pipeline\n",
    "\n",
    "polynomial_regression = Pipeline([\n",
    "        (\"poly_features\", PolynomialFeatures(degree=4, include_bias=False)),\n",
    "        (\"lin_reg\", LinearRegression()),\n",
    "    ])\n",
    "\n",
    "plt.figure(figsize=(8, 4))\n",
    "plot_learning_curves(polynomial_regression, X, y)\n",
    "save_fig(\"learn3\")"
   ]
  },
  {
   "cell_type": "markdown",
   "metadata": {},
   "source": [
    "## Exemple 4"
   ]
  },
  {
   "cell_type": "code",
   "execution_count": null,
   "metadata": {},
   "outputs": [],
   "source": [
    "m=100\n",
    "n=150\n",
    "[X,y]=computeLogistic(m,n)\n",
    "plt.plot(y, \"b.\")\n",
    "print(y)"
   ]
  },
  {
   "cell_type": "markdown",
   "metadata": {},
   "source": [
    "Pour un ensemble de **100 données** on a le couple (X,y) avec y est soit oui (1) soit non (2). Chaque x contient **150 mesures**."
   ]
  },
  {
   "cell_type": "code",
   "execution_count": null,
   "metadata": {},
   "outputs": [],
   "source": [
    "## Apprentissage du modèle\n",
    "\n",
    "from sklearn.linear_model import LogisticRegression\n",
    "\n",
    "log_reg = LogisticRegression(solver=\"lbfgs\", C=10000, random_state=42)\n",
    "# C est est pour la régularisation\n",
    "log_reg.fit(X, y.ravel())\n",
    "\n",
    "## Affichage du résultat\n",
    "theta=log_reg.coef_ # theta\n",
    "y_temp=X.dot(log_reg.coef_.ravel()) # y correspondant à X.theta\n",
    "y_proba=sig(y_temp) # Sigmoid\n",
    "plt.plot(y_temp,y_proba, \"b.\")"
   ]
  },
  {
   "cell_type": "code",
   "execution_count": null,
   "metadata": {},
   "outputs": [],
   "source": [
    "## Test du modèle\n",
    "X_test=X[1:10]\n",
    "y_test=y[1:10]\n",
    "print(y_test.ravel())"
   ]
  },
  {
   "cell_type": "code",
   "execution_count": null,
   "metadata": {},
   "outputs": [],
   "source": [
    "y_predict = log_reg.predict_proba(X_test)\n",
    "print(y_predict.ravel())"
   ]
  },
  {
   "cell_type": "code",
   "execution_count": null,
   "metadata": {},
   "outputs": [],
   "source": [
    "y_predict = log_reg.predict(X_test)\n",
    "print(y_predict.ravel())"
   ]
  },
  {
   "cell_type": "markdown",
   "metadata": {},
   "source": [
    "**Exercice** : faire varier **m** et **n**"
   ]
  },
  {
   "cell_type": "markdown",
   "metadata": {},
   "source": [
    "## Exemple 5"
   ]
  },
  {
   "cell_type": "code",
   "execution_count": null,
   "metadata": {},
   "outputs": [],
   "source": [
    "m=100\n",
    "n=200\n",
    "k=5\n",
    "[X,y]=computeSoftMax(m,n,k)\n",
    "#for cpt in range(0, m): \n",
    "#    print(y[cpt].ravel())"
   ]
  },
  {
   "cell_type": "markdown",
   "metadata": {},
   "source": [
    "Pour un ensemble de **m données** on a le couple (X,y) avec y qui appartient à une des **k classes**. Chaque x contient **n mesures**."
   ]
  },
  {
   "cell_type": "code",
   "execution_count": null,
   "metadata": {},
   "outputs": [],
   "source": [
    "## Apprentissage du modèle\n",
    "\n",
    "softmax_reg = LogisticRegression(multi_class=\"multinomial\",solver=\"lbfgs\", C=10, random_state=42)\n",
    "y_C1=y[:,0]\n",
    "softmax_reg.fit(X, y_C1.ravel())"
   ]
  },
  {
   "cell_type": "code",
   "execution_count": null,
   "metadata": {},
   "outputs": [],
   "source": [
    "\n",
    "plt.plot(X[y.ravel()==2, 0], X[y.ravel()==2, 1], \"g^\", label=\"classe 2\")\n",
    "plt.plot(X[y.ravel()==1, 0], X[y.ravel()==1, 1], \"bs\", label=\"classe 1\")\n",
    "plt.plot(X[y.ravel()==0, 0], X[y.ravel()==0, 1], \"yo\", label=\"classe 0\")\n",
    "\n",
    "plt.show()"
   ]
  },
  {
   "cell_type": "code",
   "execution_count": null,
   "metadata": {},
   "outputs": [],
   "source": [
    "## Test du modèle\n",
    "X_test=X[1:10]\n",
    "y_test=y[1:10]\n",
    "print(y_test.ravel())"
   ]
  },
  {
   "cell_type": "code",
   "execution_count": null,
   "metadata": {},
   "outputs": [],
   "source": [
    "y_predict = softmax_reg.predict(X_test)\n",
    "print(y_predict.ravel())"
   ]
  },
  {
   "cell_type": "markdown",
   "metadata": {},
   "source": [
    "**Exercice** : faire varier **m** et **n**"
   ]
  },
  {
   "cell_type": "code",
   "execution_count": null,
   "metadata": {},
   "outputs": [],
   "source": []
  }
 ],
 "metadata": {
  "kernelspec": {
   "display_name": "Python 3",
   "language": "python",
   "name": "python3"
  },
  "language_info": {
   "codemirror_mode": {
    "name": "ipython",
    "version": 3
   },
   "file_extension": ".py",
   "mimetype": "text/x-python",
   "name": "python",
   "nbconvert_exporter": "python",
   "pygments_lexer": "ipython3",
   "version": "3.7.10"
  },
  "nav_menu": {},
  "toc": {
   "navigate_menu": true,
   "number_sections": true,
   "sideBar": true,
   "threshold": 6,
   "toc_cell": false,
   "toc_section_display": "block",
   "toc_window_display": false
  }
 },
 "nbformat": 4,
 "nbformat_minor": 1
}
