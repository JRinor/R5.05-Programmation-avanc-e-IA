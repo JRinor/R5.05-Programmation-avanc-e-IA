{
 "cells": [
  {
   "cell_type": "markdown",
   "id": "edc42e39",
   "metadata": {},
   "source": [
    "# Copie de TP noté de deep learning "
   ]
  },
  {
   "cell_type": "markdown",
   "id": "f8c390d4",
   "metadata": {},
   "source": [
    "- Etudiant 1= Rinor \n",
    "- Etudiant 2= Rayan"
   ]
  },
  {
   "cell_type": "markdown",
   "id": "6abcb724",
   "metadata": {},
   "source": [
    "## Réponses aux questions :"
   ]
  },
  {
   "cell_type": "markdown",
   "id": "1151a53b",
   "metadata": {},
   "source": [
    "### Exercice 1"
   ]
  },
  {
   "cell_type": "markdown",
   "id": "e82b6a61",
   "metadata": {},
   "source": [
    "1. Un plan régression linéaire.\n"
   ]
  },
  {
   "cell_type": "markdown",
   "id": "e14d2d8c",
   "metadata": {},
   "source": [
    "2. Il a 3 paramètres, les coefficients de x1 et x2 et l'intercept."
   ]
  },
  {
   "cell_type": "markdown",
   "id": "91c22ac6",
   "metadata": {},
   "source": [
    "3. La méthode des moindres carrés est la plus efficace et rapide pour déterminer ces paramètres, car elle minimise les erreurs de prédiction."
   ]
  },
  {
   "cell_type": "markdown",
   "id": "a8def93e",
   "metadata": {},
   "source": [
    "4. Le nombre de points est m = 30 et le nombre de variables est n = 2 car il y a 2 variables (X1 et X2)."
   ]
  },
  {
   "cell_type": "markdown",
   "id": "f2b82cde",
   "metadata": {},
   "source": [
    "### Exercice 2"
   ]
  },
  {
   "cell_type": "markdown",
   "id": "e1b0dc75",
   "metadata": {},
   "source": [
    "5. Y représente la longévité (L) des joueurs, elle est connue car elle a été mesurée pour 563 joueurs. Sa dimension est (563,1)."
   ]
  },
  {
   "cell_type": "markdown",
   "id": "c9c033cb",
   "metadata": {},
   "source": [
    "6. X représente les métriques mesurées, telles que la vitesse, l'accélération, la position, les zones de présence, le nombre de passes, les tirs et les dribbles. Ces métriques sont connues car elles ont été mesurées pour chaque joueur. La dimension de X est (563, 9)."
   ]
  },
  {
   "cell_type": "markdown",
   "id": "5f9c897b",
   "metadata": {},
   "source": [
    "7. $\\theta$ représente les coefficients du modèle de régression linéaire. Non, il n'est pas connu initialement. Sa dimension est (9,1)."
   ]
  },
  {
   "cell_type": "markdown",
   "id": "5603b072",
   "metadata": {},
   "source": [
    "8. L'inconnu pour prédire la longévité d'un nouvel arrivant est la longévité (L). Sa dimension est (1,1)."
   ]
  },
  {
   "cell_type": "markdown",
   "id": "b557b9c2",
   "metadata": {},
   "source": [
    "9. Pour augmenter la précision du modèle, on peut demander aux académies de football de fournir plus de données sur d'autres métriques pertinentes."
   ]
  },
  {
   "cell_type": "markdown",
   "id": "d47001c9",
   "metadata": {},
   "source": [
    "### Exercice 3"
   ]
  },
  {
   "cell_type": "markdown",
   "id": "00ab1bec",
   "metadata": {},
   "source": [
    "10. Regression Polynomial"
   ]
  },
  {
   "cell_type": "code",
   "execution_count": 11,
   "id": "47af48ed",
   "metadata": {},
   "outputs": [],
   "source": [
    "from sklearn.linear_model import LinearRegression\n",
    "from sklearn.preprocessing import PolynomialFeatures\n",
    "from sklearn.pipeline import Pipeline\n",
    "import numpy as np\n",
    "import matplotlib.pyplot as plt\n",
    "\n",
    "m = 300\n",
    "[X, y] = computepolyPoints(m)\n",
    "\n",
    "degree = 4\n",
    "polynomial_regression = Pipeline([\n",
    "    (\"poly_features\", PolynomialFeatures(degree=degree, include_bias=False)),\n",
    "    (\"lin_reg\", LinearRegression())\n",
    "])\n",
    "\n",
    "polynomial_regression.fit(X, y)\n",
    "\n",
    "X_new = np.linspace(-3, 3, 300).reshape(300, 1)\n",
    "y_new = polynomial_regression.predict(X_new)\n",
    "\n",
    "plt.plot(X, y, \"b.\")\n",
    "plt.plot(X_new, y_new, \"r-\", linewidth=2, label=\"Prédictions\")\n",
    "plt.xlabel(\"$x_1$\", fontsize=18)\n",
    "plt.ylabel(\"$y$\", rotation=0, fontsize=18)\n",
    "plt.legend(loc=\"upper left\")\n",
    "plt.axis([-3, 3, -10, 100])\n",
    "plt.show()"
   ]
  },
  {
   "cell_type": "markdown",
   "id": "d3938014",
   "metadata": {},
   "source": [
    "### Exercice 4"
   ]
  },
  {
   "cell_type": "markdown",
   "id": "9953c944",
   "metadata": {},
   "source": [
    "11.X a pour dimensions (50,480) (50 joueurs et 480 mesures). y a pour dimensions (480) (480 zones)."
   ]
  },
  {
   "cell_type": "markdown",
   "id": "35dab625",
   "metadata": {},
   "source": [
    "12. Découper les données "
   ]
  },
  {
   "cell_type": "code",
   "execution_count": 16,
   "id": "40123f71",
   "metadata": {},
   "outputs": [],
   "source": [
    "from sklearn.model_selection import train_test_split\n",
    "\n",
    "X_train_full, X_test, Y_train_full, Y_test = train_test_split(X, y, test_size=0.2, random_state=42)"
   ]
  },
  {
   "cell_type": "markdown",
   "id": "6cf81ed5",
   "metadata": {},
   "source": [
    "13. Modélisation de l'architecture"
   ]
  },
  {
   "cell_type": "code",
   "execution_count": 12,
   "id": "d9fca5c9",
   "metadata": {},
   "outputs": [],
   "source": [
    "percep = Perceptron(max_iter=10000, tol=1e-5, random_state=100)\n",
    "X_train.shape"
   ]
  },
  {
   "cell_type": "markdown",
   "id": "7c431128",
   "metadata": {},
   "source": [
    "14. Entraînement"
   ]
  },
  {
   "cell_type": "code",
   "execution_count": 13,
   "id": "0d99ecdc",
   "metadata": {},
   "outputs": [],
   "source": [
    "percep.fit(X_train_full, Y_train_full)\n"
   ]
  },
  {
   "cell_type": "markdown",
   "id": "d363632a",
   "metadata": {},
   "source": [
    "15. Test"
   ]
  },
  {
   "cell_type": "code",
   "execution_count": 17,
   "id": "835342fe",
   "metadata": {},
   "outputs": [],
   "source": [
    "accuracy = percep.score(X_test, Y_test)\n"
   ]
  },
  {
   "cell_type": "markdown",
   "id": "1e6b57ce",
   "metadata": {},
   "source": [
    "16. Modélisation TF"
   ]
  },
  {
   "cell_type": "code",
   "execution_count": 17,
   "id": "f5e45c67",
   "metadata": {},
   "outputs": [],
   "source": [
    "from tensorflow.keras.models import Sequential\n",
    "from tensorflow.keras.layers import Dense\n",
    "from tensorflow.keras.optimizers import Adam\n",
    "\n",
    "model = Sequential([\n",
    "    Dense(5, activation='relu', input_shape=(X_train_full.shape[1],)),\n",
    "    Dense(50, activation='relu'),\n",
    "    Dense(10, activation='relu'),\n",
    "    Dense(2, activation='softmax')\n",
    "])\n",
    "\n",
    "model.compile(optimizer=Adam(), loss='sparse_categorical_crossentropy', metrics=['accuracy'])\n",
    "\n",
    "\n"
   ]
  },
  {
   "cell_type": "markdown",
   "id": "0015ce34",
   "metadata": {},
   "source": [
    "17. Train TF"
   ]
  },
  {
   "cell_type": "code",
   "execution_count": 17,
   "id": "ea39ec17",
   "metadata": {},
   "outputs": [],
   "source": [
    "history = model.fit(X_train_full, Y_train_full, epochs=20, validation_split=0.2)\n",
    "\n",
    "plt.plot(history.history['accuracy'], label='accuracy')\n",
    "plt.plot(history.history['val_accuracy'], label = 'val_accuracy')\n",
    "plt.xlabel('Epoch')\n",
    "plt.ylabel('Accuracy')\n",
    "plt.ylim([0, 1])\n",
    "plt.legend(loc='lower right')\n",
    "plt.show()"
   ]
  },
  {
   "cell_type": "markdown",
   "id": "35c32b8c",
   "metadata": {},
   "source": [
    "### Exercice 5"
   ]
  },
  {
   "cell_type": "markdown",
   "id": "c5cd587d",
   "metadata": {},
   "source": [
    "18. n = 500, et m = 300"
   ]
  },
  {
   "cell_type": "markdown",
   "id": "2d3c1e6c",
   "metadata": {},
   "source": [
    "19. x est sotcké dans Xtemp, y dans YTemp, et $\\Theta$ c'est les paramètres du modèle qui seront appris."
   ]
  },
  {
   "cell_type": "markdown",
   "id": "c93bc16a",
   "metadata": {},
   "source": [
    "20. L'inconnu est $\\Theta$."
   ]
  },
  {
   "cell_type": "markdown",
   "id": "7b5b872b",
   "metadata": {},
   "source": [
    "21. On va utiliser un perceptron multicouche. "
   ]
  },
  {
   "cell_type": "markdown",
   "id": "17d5a857",
   "metadata": {},
   "source": [
    "22. On a 2 classes, grossesse ou pas grossesse."
   ]
  },
  {
   "cell_type": "markdown",
   "id": "0ecb0190",
   "metadata": {},
   "source": [
    "23."
   ]
  },
  {
   "cell_type": "markdown",
   "id": "99c99a70",
   "metadata": {},
   "source": [
    "24."
   ]
  },
  {
   "cell_type": "markdown",
   "id": "c64d3baa",
   "metadata": {},
   "source": [
    "25."
   ]
  },
  {
   "cell_type": "markdown",
   "id": "c3e8c39d",
   "metadata": {},
   "source": [
    "26."
   ]
  },
  {
   "cell_type": "code",
   "execution_count": null,
   "id": "d573c797",
   "metadata": {},
   "outputs": [],
   "source": []
  }
 ],
 "metadata": {
  "kernelspec": {
   "display_name": "Python 3 (ipykernel)",
   "language": "python",
   "name": "python3"
  },
  "language_info": {
   "codemirror_mode": {
    "name": "ipython",
    "version": 3
   },
   "file_extension": ".py",
   "mimetype": "text/x-python",
   "name": "python",
   "nbconvert_exporter": "python",
   "pygments_lexer": "ipython3",
   "version": "3.7.16"
  }
 },
 "nbformat": 4,
 "nbformat_minor": 5
}
